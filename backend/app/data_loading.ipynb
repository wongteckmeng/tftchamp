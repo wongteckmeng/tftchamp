{
 "cells": [
  {
   "cell_type": "code",
   "execution_count": 11,
   "metadata": {},
   "outputs": [],
   "source": [
    "# %pip install git+https://github.com/tensorflow/docs\n",
    "\n",
    "import requests\n",
    "import os.path\n",
    "import asyncio\n",
    "import json\n",
    "import numpy as np\n",
    "import pathlib\n",
    "import pandas as pd\n",
    "import seaborn as sns\n",
    "import tensorflow as tf\n",
    "import time\n",
    "from tensorflow import keras\n",
    "from tensorflow.keras import layers\n",
    "import tensorflow_docs as tfdocs\n",
    "import tensorflow_docs.plots\n",
    "import tensorflow_docs.modeling\n",
    "from riotwatcher import TftWatcher, ApiError\n",
    "\n",
    "from utils.configuration import settings\n",
    "# from utils.utils import *\n",
    "# from tft.api import *\n"
   ]
  },
  {
   "cell_type": "code",
   "execution_count": 13,
   "metadata": {},
   "outputs": [],
   "source": [
    "#settings"
   ]
  },
  {
   "cell_type": "code",
   "execution_count": 9,
   "metadata": {},
   "outputs": [
    {
     "ename": "AttributeError",
     "evalue": "'Settings' object has no attribute 'assets_dir'",
     "output_type": "error",
     "traceback": [
      "\u001b[1;31m---------------------------------------------------------------------------\u001b[0m",
      "\u001b[1;31mAttributeError\u001b[0m                            Traceback (most recent call last)",
      "\u001b[1;32mw:\\workspace\\tftchamp\\backend\\app\\data_loading.ipynb Cell 2'\u001b[0m in \u001b[0;36m<cell line: 2>\u001b[1;34m()\u001b[0m\n\u001b[0;32m      <a href='vscode-notebook-cell:/w%3A/workspace/tftchamp/backend/app/data_loading.ipynb#ch0000002?line=0'>1</a>\u001b[0m API_KEY \u001b[39m=\u001b[39m settings\u001b[39m.\u001b[39mapi_key\n\u001b[1;32m----> <a href='vscode-notebook-cell:/w%3A/workspace/tftchamp/backend/app/data_loading.ipynb#ch0000002?line=1'>2</a>\u001b[0m ASSETS_DIR \u001b[39m=\u001b[39m settings\u001b[39m.\u001b[39;49massets_dir\n\u001b[0;32m      <a href='vscode-notebook-cell:/w%3A/workspace/tftchamp/backend/app/data_loading.ipynb#ch0000002?line=2'>3</a>\u001b[0m SERVER \u001b[39m=\u001b[39m \u001b[39m'\u001b[39m\u001b[39mna1\u001b[39m\u001b[39m'\u001b[39m  \u001b[39m# euw1 na1\u001b[39;00m\n\u001b[0;32m      <a href='vscode-notebook-cell:/w%3A/workspace/tftchamp/backend/app/data_loading.ipynb#ch0000002?line=3'>4</a>\u001b[0m MAX_COUNT \u001b[39m=\u001b[39m settings\u001b[39m.\u001b[39mmax_count\n",
      "\u001b[1;31mAttributeError\u001b[0m: 'Settings' object has no attribute 'assets_dir'"
     ]
    }
   ],
   "source": [
    "API_KEY = settings.api_key\n",
    "ASSETS_DIR = settings.assets_dir\n",
    "SERVER = 'na1'  # euw1 na1\n",
    "MAX_COUNT = settings.max_count"
   ]
  },
  {
   "cell_type": "code",
   "execution_count": null,
   "metadata": {},
   "outputs": [],
   "source": [
    "summoners_df = get_league(league='challengers')\n",
    "\n",
    "# Get all unique matches_id from assets dir\n",
    "matches_asset = load_matches(summoners_df, server=SERVER)\n",
    "matches_id = [match['metadata']['match_id'] for match in matches_asset]\n",
    "seen = set()\n",
    "uniq_matches_id = [\n",
    "    x for x in matches_id if x not in seen and not seen.add(x)]"
   ]
  }
 ],
 "metadata": {
  "kernelspec": {
   "display_name": "Python 3.10.5 ('tft')",
   "language": "python",
   "name": "python3"
  },
  "language_info": {
   "codemirror_mode": {
    "name": "ipython",
    "version": 3
   },
   "file_extension": ".py",
   "mimetype": "text/x-python",
   "name": "python",
   "nbconvert_exporter": "python",
   "pygments_lexer": "ipython3",
   "version": "3.10.5"
  },
  "orig_nbformat": 4,
  "vscode": {
   "interpreter": {
    "hash": "269ffad4faf381fd223c734db5a016eeb9dc0acf3c9e80f7bf1eaf7686d11d5a"
   }
  }
 },
 "nbformat": 4,
 "nbformat_minor": 2
}
