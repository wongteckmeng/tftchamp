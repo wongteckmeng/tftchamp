{
 "cells": [
  {
   "cell_type": "code",
   "execution_count": null,
   "metadata": {},
   "outputs": [],
   "source": [
    "from pantheon import pantheon\n",
    "import asyncio\n",
    "\n",
    "from utils import configuration\n",
    "\n",
    "settings = configuration.settings\n",
    "server = \"na1\"\n",
    "api_key = settings.api_key\n",
    "\n",
    "def requestsLog(url, status, headers):\n",
    "    print(url)\n",
    "    print(status)\n",
    "    print(headers)\n",
    "\n",
    "panth = pantheon.Pantheon(server, api_key, requests_logging_function=requestsLog, debug=True)\n",
    "\n",
    "\n",
    "\n",
    "\n",
    "\n"
   ]
  },
  {
   "cell_type": "code",
   "execution_count": null,
   "metadata": {},
   "outputs": [],
   "source": [
    "async def getSummonerId(name):\n",
    "    try:\n",
    "        data = await panth.getSummonerByName(name)\n",
    "        return (data['id'],data['accountId'])\n",
    "    except Exception as e:\n",
    "        print(e)\n",
    "\n",
    "\n",
    "async def getRecentMatchlist(accountId):\n",
    "    try:\n",
    "        data = await panth.getMatchlist(accountId, params={\"endIndex\":10})\n",
    "        return data\n",
    "    except Exception as e:\n",
    "        print(e)\n",
    "\n",
    "async def getRecentMatches(accountId):\n",
    "    try:\n",
    "        matchlist = await getRecentMatchlist(accountId)\n",
    "        tasks = [panth.getMatch(match['gameId']) for match in matchlist['matches']]\n",
    "        return await asyncio.gather(*tasks)\n",
    "    except Exception as e:\n",
    "        print(e)"
   ]
  },
  {
   "cell_type": "code",
   "execution_count": null,
   "metadata": {},
   "outputs": [],
   "source": [
    "name = \"Canisback\"\n",
    "\n",
    "loop = asyncio.get_event_loop()  \n",
    "\n",
    "(summonerId, accountId) = loop.run_until_complete(getSummonerId(name))"
   ]
  },
  {
   "cell_type": "code",
   "execution_count": null,
   "metadata": {},
   "outputs": [],
   "source": [
    "print(summonerId)\n"
   ]
  },
  {
   "cell_type": "code",
   "execution_count": null,
   "metadata": {},
   "outputs": [],
   "source": [
    "print(accountId)\n"
   ]
  },
  {
   "cell_type": "code",
   "execution_count": null,
   "metadata": {},
   "outputs": [],
   "source": [
    "print(loop.run_until_complete(getRecentMatches(accountId)))"
   ]
  },
  {
   "cell_type": "code",
   "execution_count": null,
   "metadata": {},
   "outputs": [],
   "source": [
    "os.environ[\"RIOT_API_KEY\"]"
   ]
  }
 ],
 "metadata": {
  "kernelspec": {
   "display_name": "Python 3.10.4 ('tft')",
   "language": "python",
   "name": "python3"
  },
  "language_info": {
   "codemirror_mode": {
    "name": "ipython",
    "version": 3
   },
   "file_extension": ".py",
   "mimetype": "text/x-python",
   "name": "python",
   "nbconvert_exporter": "python",
   "pygments_lexer": "ipython3",
   "version": "3.10.5"
  },
  "orig_nbformat": 4,
  "vscode": {
   "interpreter": {
    "hash": "269ffad4faf381fd223c734db5a016eeb9dc0acf3c9e80f7bf1eaf7686d11d5a"
   }
  }
 },
 "nbformat": 4,
 "nbformat_minor": 2
}
